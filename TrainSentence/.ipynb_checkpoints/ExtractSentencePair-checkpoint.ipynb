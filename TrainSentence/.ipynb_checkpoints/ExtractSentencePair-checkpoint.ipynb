{
 "cells": [
  {
   "cell_type": "markdown",
   "metadata": {},
   "source": [
    "# Extract claim_evidence pairs from training set"
   ]
  },
  {
   "cell_type": "markdown",
   "metadata": {
    "ExecuteTime": {
     "end_time": "2019-05-21T01:56:19.187558Z",
     "start_time": "2019-05-21T01:56:19.183905Z"
    }
   },
   "source": [
    "## Construct index dict"
   ]
  },
  {
   "cell_type": "code",
   "execution_count": 1,
   "metadata": {
    "ExecuteTime": {
     "end_time": "2019-05-23T06:10:51.934822Z",
     "start_time": "2019-05-23T06:08:19.652219Z"
    }
   },
   "outputs": [
    {
     "name": "stdout",
     "output_type": "stream",
     "text": [
      "processing file: wiki-009.txt\n",
      "processing file: wiki-021.txt\n",
      "processing file: wiki-035.txt\n",
      "processing file: wiki-034.txt\n",
      "processing file: wiki-020.txt\n",
      "processing file: wiki-008.txt\n",
      "processing file: wiki-036.txt\n",
      "processing file: wiki-022.txt\n",
      "processing file: wiki-023.txt\n",
      "processing file: wiki-037.txt\n",
      "processing file: wiki-033.txt\n",
      "processing file: wiki-027.txt\n",
      "processing file: wiki-026.txt\n",
      "processing file: wiki-032.txt\n",
      "processing file: wiki-024.txt\n",
      "processing file: wiki-030.txt\n",
      "processing file: wiki-018.txt\n",
      "processing file: wiki-019.txt\n",
      "processing file: wiki-031.txt\n",
      "processing file: wiki-025.txt\n",
      "processing file: wiki-042.txt\n",
      "processing file: wiki-056.txt\n",
      "processing file: wiki-081.txt\n",
      "processing file: wiki-095.txt\n",
      "processing file: wiki-094.txt\n",
      "processing file: wiki-080.txt\n",
      "processing file: wiki-057.txt\n",
      "processing file: wiki-043.txt\n",
      "processing file: wiki-069.txt\n",
      "processing file: wiki-055.txt\n",
      "processing file: wiki-041.txt\n",
      "processing file: wiki-096.txt\n",
      "processing file: wiki-082.txt\n",
      "processing file: wiki-109.txt\n",
      "processing file: wiki-108.txt\n",
      "processing file: wiki-083.txt\n",
      "processing file: wiki-097.txt\n",
      "processing file: wiki-040.txt\n",
      "processing file: wiki-054.txt\n",
      "processing file: wiki-068.txt\n",
      "processing file: wiki-050.txt\n",
      "processing file: wiki-044.txt\n",
      "processing file: wiki-078.txt\n",
      "processing file: wiki-093.txt\n",
      "processing file: wiki-087.txt\n",
      "processing file: wiki-086.txt\n",
      "processing file: wiki-092.txt\n",
      "processing file: wiki-079.txt\n",
      "processing file: wiki-045.txt\n",
      "processing file: wiki-051.txt\n",
      "processing file: wiki-047.txt\n",
      "processing file: wiki-053.txt\n",
      "processing file: wiki-084.txt\n",
      "processing file: wiki-090.txt\n",
      "processing file: wiki-091.txt\n",
      "processing file: wiki-085.txt\n",
      "processing file: wiki-052.txt\n",
      "processing file: wiki-046.txt\n",
      "processing file: wiki-063.txt\n",
      "processing file: wiki-077.txt\n",
      "processing file: wiki-088.txt\n",
      "processing file: wiki-103.txt\n",
      "processing file: wiki-102.txt\n",
      "processing file: wiki-089.txt\n",
      "processing file: wiki-076.txt\n",
      "processing file: wiki-062.txt\n",
      "processing file: wiki-048.txt\n",
      "processing file: wiki-074.txt\n",
      "processing file: wiki-060.txt\n",
      "processing file: wiki-100.txt\n",
      "processing file: wiki-101.txt\n",
      "processing file: wiki-061.txt\n",
      "processing file: wiki-075.txt\n",
      "processing file: wiki-049.txt\n",
      "processing file: wiki-071.txt\n",
      "processing file: wiki-065.txt\n",
      "processing file: wiki-059.txt\n",
      "processing file: wiki-105.txt\n",
      "processing file: wiki-104.txt\n",
      "processing file: wiki-058.txt\n",
      "processing file: wiki-064.txt\n",
      "processing file: wiki-070.txt\n",
      "processing file: wiki-066.txt\n",
      "processing file: wiki-072.txt\n",
      "processing file: wiki-099.txt\n",
      "processing file: wiki-106.txt\n",
      "processing file: wiki-107.txt\n",
      "processing file: wiki-098.txt\n",
      "processing file: wiki-073.txt\n",
      "processing file: wiki-067.txt\n",
      "processing file: wiki-028.txt\n",
      "processing file: wiki-014.txt\n",
      "processing file: wiki-015.txt\n",
      "processing file: wiki-001.txt\n",
      "processing file: wiki-029.txt\n",
      "processing file: wiki-017.txt\n",
      "processing file: wiki-003.txt\n",
      "processing file: wiki-002.txt\n",
      "processing file: wiki-016.txt\n",
      "processing file: wiki-012.txt\n",
      "processing file: wiki-006.txt\n",
      "processing file: wiki-007.txt\n",
      "processing file: wiki-013.txt\n",
      "processing file: wiki-005.txt\n",
      "processing file: wiki-011.txt\n",
      "processing file: wiki-039.txt\n",
      "processing file: wiki-038.txt\n",
      "processing file: wiki-010.txt\n",
      "processing file: wiki-004.txt\n"
     ]
    }
   ],
   "source": [
    "import os\n",
    "import json\n",
    "\n",
    "wiki_file_path = \"../new-wiki-pages-text/\"\n",
    "train_file_path = \"../JSONFiles/\" + \"train.json\"\n",
    "dev_file_path = \"../JSONFiles/\" + \"devset.json\"\n",
    "\n",
    "train_output_path = \"../TrainSentence/\" + \"training.csv\"\n",
    "dev_output_path = \"../TrainSentence/\" + \"dev.csv\"\n",
    "\n",
    "# create index for evidences\n",
    "evi_index = {}\n",
    "head_index = {}\n",
    "for file in os.listdir(wiki_file_path):\n",
    "    print(\"processing file: \" + file)\n",
    "    file_name = wiki_file_path + file\n",
    "    with open(file=file_name) as f:\n",
    "        lines = f.readlines()\n",
    "        for i in range(len(lines)):\n",
    "            words = lines[i].split(\" \")\n",
    "            head = words[0]\n",
    "\n",
    "            try:\n",
    "                evi = (words[0], int(words[1]))\n",
    "                evi_index.update({\n",
    "                evi: (file, i)\n",
    "                })\n",
    "            except ValueError as e:\n",
    "                continue\n",
    "                \n",
    "            if head in head_index.keys():\n",
    "                head_index[head].append(int(words[1]))\n",
    "            else:\n",
    "                head_index.update({\n",
    "                    head: [int(words[1])]\n",
    "                })\n"
   ]
  },
  {
   "cell_type": "code",
   "execution_count": 8,
   "metadata": {
    "ExecuteTime": {
     "end_time": "2019-05-21T03:15:02.896905Z",
     "start_time": "2019-05-21T03:15:02.894471Z"
    }
   },
   "outputs": [],
   "source": [
    "# head_index.get(\"José_Ferrer\")"
   ]
  },
  {
   "cell_type": "markdown",
   "metadata": {
    "ExecuteTime": {
     "end_time": "2019-05-21T03:12:40.513850Z",
     "start_time": "2019-05-21T03:12:40.511380Z"
    }
   },
   "source": [
    "## Build training set according to file"
   ]
  },
  {
   "cell_type": "code",
   "execution_count": 6,
   "metadata": {
    "ExecuteTime": {
     "end_time": "2019-05-23T06:12:32.075203Z",
     "start_time": "2019-05-23T06:12:13.232206Z"
    }
   },
   "outputs": [],
   "source": [
    "import pandas as pd\n",
    "import linecache\n",
    "import numpy as np\n",
    "import random\n",
    "from sklearn.utils import shuffle\n",
    "\n",
    "use_file = 0    # 0 for training set , 1 for dev set\n",
    "\n",
    "# read training data\n",
    "if use_file == 0:\n",
    "    with open(train_file_path, 'r') as f:\n",
    "        train = json.load(f)\n",
    "elif use_file == 1:\n",
    "    with open(dev_file_path, 'r') as f:\n",
    "        train = json.load(f)\n",
    "\n",
    "def get_evi_text(evi) -> str:\n",
    "    evidence = (evi[0], int(evi[1]))\n",
    "    file_index_tuple = evi_index.get(evidence)\n",
    "    file = wiki_file_path + file_index_tuple[0]\n",
    "    line_num = file_index_tuple[1]\n",
    "    evi_text = linecache.getline(file,line_num + 1)\n",
    "#     evi_text = evi_text[2: len(evi_text) + 1]\n",
    "    words = evi_text.split(\" \")[2: len(evi_text)]\n",
    "    evi_text = \" \".join(words)\n",
    "    return evi_text[0: -1]\n",
    "    \n",
    "\n",
    "claim_list = []\n",
    "evi_list = []\n",
    "claim_evi_list = []\n",
    "label_list = []\n",
    "\n",
    "np.random.seed(3)\n",
    "\n",
    "for key in train.keys():\n",
    "    item = train.get(key)\n",
    "    evidence_list = item['evidence']\n",
    "    if len(evidence_list) == 0:\n",
    "        continue\n",
    "    claim = item['claim']\n",
    "        \n",
    "    head_set = set()\n",
    "    for evi in evidence_list:\n",
    "        head = evi[0]\n",
    "        head_set.add(head)\n",
    "        \n",
    "    for head in head_set:\n",
    "        sentence_numbers = head_index.get(head)\n",
    "        if sentence_numbers is None:\n",
    "            continue\n",
    "        for number in sentence_numbers:\n",
    "            query_combination = [head, number]\n",
    "            evidence_text = get_evi_text(query_combination)\n",
    "            \n",
    "            if query_combination in evidence_list:\n",
    "                label_list.append(1)\n",
    "            else:\n",
    "                probability = np.random.rand()\n",
    "                if probability > 0.2:\n",
    "                    continue\n",
    "                label_list.append(0)\n",
    "                \n",
    "            claim_list.append(claim)\n",
    "            evi_list.append(evidence_text)\n",
    "            claim_evi_list.append(claim + \" ||| \" + evidence_text)\n",
    "\n",
    "result_dict = {\n",
    "    \"claim\": claim_list,\n",
    "    \"evidence\": evi_list,\n",
    "#     \"claim_evi_pair\": claim_evi_list,\n",
    "    \"label\": label_list\n",
    "}\n",
    "result_df = pd.DataFrame(result_dict)\n",
    "result_df = shuffle(result_df)\n",
    "\n",
    "if use_file == 0:\n",
    "    result_df.to_csv(train_output_path, index=False, sep='\\t')\n",
    "elif use_file == 1:\n",
    "    result_df.to_csv(dev_output_path, index=False, sep='\\t')\n",
    "\n"
   ]
  },
  {
   "cell_type": "code",
   "execution_count": 4,
   "metadata": {
    "ExecuteTime": {
     "end_time": "2019-05-23T06:11:49.423225Z",
     "start_time": "2019-05-23T06:11:49.419095Z"
    }
   },
   "outputs": [
    {
     "data": {
      "text/plain": [
       "\"Soul Food film Soul Food is a 1997 American comedy-drama film produced by Kenneth `` Babyface '' Edmonds , Tracey Edmonds and Robert Teitel and released by Fox 2000 Pictures .\""
      ]
     },
     "execution_count": 4,
     "metadata": {},
     "output_type": "execute_result"
    }
   ],
   "source": [
    "result_df['evidence'][0]"
   ]
  },
  {
   "cell_type": "code",
   "execution_count": 8,
   "metadata": {
    "ExecuteTime": {
     "end_time": "2019-05-21T08:05:03.181008Z",
     "start_time": "2019-05-21T08:05:03.145048Z"
    }
   },
   "outputs": [
    {
     "data": {
      "text/plain": [
       "count    11982.000000\n",
       "mean         0.471624\n",
       "std          0.499215\n",
       "min          0.000000\n",
       "25%          0.000000\n",
       "50%          0.000000\n",
       "75%          1.000000\n",
       "max          1.000000\n",
       "Name: label, dtype: float64"
      ]
     },
     "execution_count": 8,
     "metadata": {},
     "output_type": "execute_result"
    }
   ],
   "source": [
    "result_df['label'].describe()"
   ]
  },
  {
   "cell_type": "code",
   "execution_count": null,
   "metadata": {},
   "outputs": [],
   "source": []
  }
 ],
 "metadata": {
  "hide_input": false,
  "kernelspec": {
   "display_name": "Python 3",
   "language": "python",
   "name": "python3"
  },
  "language_info": {
   "codemirror_mode": {
    "name": "ipython",
    "version": 3
   },
   "file_extension": ".py",
   "mimetype": "text/x-python",
   "name": "python",
   "nbconvert_exporter": "python",
   "pygments_lexer": "ipython3",
   "version": "3.6.4"
  },
  "toc": {
   "base_numbering": 1,
   "nav_menu": {},
   "number_sections": true,
   "sideBar": true,
   "skip_h1_title": false,
   "title_cell": "Table of Contents",
   "title_sidebar": "Contents",
   "toc_cell": false,
   "toc_position": {},
   "toc_section_display": true,
   "toc_window_display": false
  }
 },
 "nbformat": 4,
 "nbformat_minor": 2
}
