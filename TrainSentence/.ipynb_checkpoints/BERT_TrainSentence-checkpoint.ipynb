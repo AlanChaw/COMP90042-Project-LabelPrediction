{
 "cells": [
  {
   "cell_type": "markdown",
   "metadata": {},
   "source": [
    "# Train sentence by BERT features"
   ]
  },
  {
   "cell_type": "code",
   "execution_count": 5,
   "metadata": {
    "ExecuteTime": {
     "end_time": "2019-05-19T07:21:23.980438Z",
     "start_time": "2019-05-19T07:21:23.970885Z"
    }
   },
   "outputs": [],
   "source": [
    "## build fake data first\n",
    "claim_list = [\n",
    "    \"Ripon College's student number totaled in at around 840.\",\n",
    "    \"The University of Illinois at Chicago is a college.\",\n",
    "    \"Birthday Song (2 Chainz song) was banned by Sonny Digital.\",\n",
    "    \"The University of Illinois at Chicago is a college\",\n",
    "    \"Damon Albarn has refused to ever work with Brian Eno\",\n",
    "    \"Lost (TV series) is a series of plays\",\n",
    "    \"Edison Machine Works was barely set up to produce dynamos\",\n",
    "    \"There are rumors that Augustus' wife, Livia, poisoned him while he was sleeping.\",\n",
    "    \"Bret Easton Ellis barely wrote the screenplay for a 2013 film.\",\n",
    "    \"Love or Lust\\\" is Jewell's best known song.\"\n",
    "]\n",
    "evidence_list = [\n",
    "    \"As of 2015 , Ripon College 's student body stood at around 840\",\n",
    "    \"The University of Illinois at Chicago or UIC is a state-funded public Chicago\",\n",
    "    \"10,000_metres_at_the_World_Championships_in_Athletics\",\n",
    "    \"Same Old Love '' is a song by American singer Selena Gomez her second studio album , Revival\",\n",
    "    \"Elisedal is a neighbourhood of Malm\\u00f6 , situated in the Borough of Husie\",\n",
    "    \"Fantastic Four -LRB- stylized as Fantastic 4 -RRB- is a 2005 American-German\",\n",
    "    \"The office was replaced by the Lord Lieutenant of Ross and Cromarty in 1891 through the operation of the Local Government Scotland Act 1889\",\n",
    "    \"Entire SH-09 between Dabok and Chittaurgarh has carved new bypasses and not passed through populated villages but Mavli has to face this four lane road as the same is passing from mid of the town\",\n",
    "    \"The working group that produced the standard was founded in January 2002 , and the first draft of the specification was produced in December 2005\",\n",
    "    \"The Road to El Dorado stars a parrot\"\n",
    "]\n",
    "label_list = [\n",
    "    1,\n",
    "    0,\n",
    "    0, \n",
    "    1, \n",
    "    0, \n",
    "    1, \n",
    "    0, \n",
    "    0, \n",
    "    0,\n",
    "    0\n",
    "]\n",
    "fake_data = {\n",
    "    'claim': claim_list,\n",
    "    'evi_text': evidence_list,\n",
    "    'label': value_list\n",
    "}\n"
   ]
  },
  {
   "cell_type": "markdown",
   "metadata": {},
   "source": [
    "## Deploy BERT server"
   ]
  },
  {
   "cell_type": "markdown",
   "metadata": {},
   "source": [
    "Instruction website: https://bert-as-service.readthedocs.io/en/latest/section/get-start.html  \n",
    "Download server and client:\n",
    "``` bash\n",
    "pip install -U bert-serving-server bert-serving-client  \n",
    "```\n",
    "Downlaod and unzip pretrained bert model(BERT-Large, Uncased, 1024 dimensional output):  \n",
    "``` bash\n",
    "cd ${model_path}\n",
    "wget https://storage.googleapis.com/bert_models/2018_10_18/uncased_L-24_H-1024_A-16.zip\n",
    "unzip uncased_L-24_H-1024_A-16.zip  \n",
    "```  \n",
    "\n",
    "Start bert server at local machine: \n",
    "``` bash\n",
    "bert-serving-start -model_dir ${model_path}/uncased_L-24_H-1024_A-16 -max_seq_len=100 -num_worker=1  \n",
    "bert-serving-start -model_dir /share/ShareFolder/uncased_L-24_H-1024_A-16/ -max_seq_len=150 -gpu_memory_fraction=0.9 -num_worker=1\n",
    "```\n",
    "Then, call from client end in python:\n",
    "``` python\n",
    "from bert_serving.client import BertClient\n",
    "bc = BertClient()\n",
    "bc.encode(['First do it', 'then do it right', 'then do it better'])\n",
    "```\n"
   ]
  },
  {
   "cell_type": "markdown",
   "metadata": {
    "ExecuteTime": {
     "end_time": "2019-05-17T05:43:47.817994Z",
     "start_time": "2019-05-17T05:43:47.813975Z"
    }
   },
   "source": [
    "## Load data as Pandas dataframe"
   ]
  },
  {
   "cell_type": "code",
   "execution_count": 29,
   "metadata": {
    "ExecuteTime": {
     "end_time": "2019-05-19T07:37:58.302980Z",
     "start_time": "2019-05-19T07:37:58.269898Z"
    },
    "scrolled": false
   },
   "outputs": [
    {
     "data": {
      "text/html": [
       "<div>\n",
       "<style scoped>\n",
       "    .dataframe tbody tr th:only-of-type {\n",
       "        vertical-align: middle;\n",
       "    }\n",
       "\n",
       "    .dataframe tbody tr th {\n",
       "        vertical-align: top;\n",
       "    }\n",
       "\n",
       "    .dataframe thead th {\n",
       "        text-align: right;\n",
       "    }\n",
       "</style>\n",
       "<table border=\"1\" class=\"dataframe\">\n",
       "  <thead>\n",
       "    <tr style=\"text-align: right;\">\n",
       "      <th></th>\n",
       "      <th>claim</th>\n",
       "      <th>evi_text</th>\n",
       "      <th>label</th>\n",
       "      <th>claim_with_evi_text</th>\n",
       "    </tr>\n",
       "  </thead>\n",
       "  <tbody>\n",
       "    <tr>\n",
       "      <th>0</th>\n",
       "      <td>Ripon College's student number totaled in at a...</td>\n",
       "      <td>As of 2015 , Ripon College 's student body sto...</td>\n",
       "      <td>1</td>\n",
       "      <td>Ripon College's student number totaled in at a...</td>\n",
       "    </tr>\n",
       "    <tr>\n",
       "      <th>1</th>\n",
       "      <td>The University of Illinois at Chicago is a col...</td>\n",
       "      <td>The University of Illinois at Chicago or UIC i...</td>\n",
       "      <td>0</td>\n",
       "      <td>The University of Illinois at Chicago is a col...</td>\n",
       "    </tr>\n",
       "    <tr>\n",
       "      <th>2</th>\n",
       "      <td>Birthday Song (2 Chainz song) was banned by So...</td>\n",
       "      <td>10,000_metres_at_the_World_Championships_in_At...</td>\n",
       "      <td>0</td>\n",
       "      <td>Birthday Song (2 Chainz song) was banned by So...</td>\n",
       "    </tr>\n",
       "    <tr>\n",
       "      <th>3</th>\n",
       "      <td>The University of Illinois at Chicago is a col...</td>\n",
       "      <td>Same Old Love '' is a song by American singer ...</td>\n",
       "      <td>1</td>\n",
       "      <td>The University of Illinois at Chicago is a col...</td>\n",
       "    </tr>\n",
       "    <tr>\n",
       "      <th>4</th>\n",
       "      <td>Damon Albarn has refused to ever work with Bri...</td>\n",
       "      <td>Elisedal is a neighbourhood of Malmö , situate...</td>\n",
       "      <td>0</td>\n",
       "      <td>Damon Albarn has refused to ever work with Bri...</td>\n",
       "    </tr>\n",
       "    <tr>\n",
       "      <th>5</th>\n",
       "      <td>Lost (TV series) is a series of plays</td>\n",
       "      <td>Fantastic Four -LRB- stylized as Fantastic 4 -...</td>\n",
       "      <td>1</td>\n",
       "      <td>Lost (TV series) is a series of plays ||| Fant...</td>\n",
       "    </tr>\n",
       "    <tr>\n",
       "      <th>6</th>\n",
       "      <td>Edison Machine Works was barely set up to prod...</td>\n",
       "      <td>The office was replaced by the Lord Lieutenant...</td>\n",
       "      <td>0</td>\n",
       "      <td>Edison Machine Works was barely set up to prod...</td>\n",
       "    </tr>\n",
       "    <tr>\n",
       "      <th>7</th>\n",
       "      <td>There are rumors that Augustus' wife, Livia, p...</td>\n",
       "      <td>Entire SH-09 between Dabok and Chittaurgarh ha...</td>\n",
       "      <td>0</td>\n",
       "      <td>There are rumors that Augustus' wife, Livia, p...</td>\n",
       "    </tr>\n",
       "    <tr>\n",
       "      <th>8</th>\n",
       "      <td>Bret Easton Ellis barely wrote the screenplay ...</td>\n",
       "      <td>The working group that produced the standard w...</td>\n",
       "      <td>0</td>\n",
       "      <td>Bret Easton Ellis barely wrote the screenplay ...</td>\n",
       "    </tr>\n",
       "    <tr>\n",
       "      <th>9</th>\n",
       "      <td>Love or Lust\" is Jewell's best known song.</td>\n",
       "      <td>The Road to El Dorado stars a parrot</td>\n",
       "      <td>0</td>\n",
       "      <td>Love or Lust\" is Jewell's best known song. |||...</td>\n",
       "    </tr>\n",
       "  </tbody>\n",
       "</table>\n",
       "</div>"
      ],
      "text/plain": [
       "                                               claim  \\\n",
       "0  Ripon College's student number totaled in at a...   \n",
       "1  The University of Illinois at Chicago is a col...   \n",
       "2  Birthday Song (2 Chainz song) was banned by So...   \n",
       "3  The University of Illinois at Chicago is a col...   \n",
       "4  Damon Albarn has refused to ever work with Bri...   \n",
       "5              Lost (TV series) is a series of plays   \n",
       "6  Edison Machine Works was barely set up to prod...   \n",
       "7  There are rumors that Augustus' wife, Livia, p...   \n",
       "8  Bret Easton Ellis barely wrote the screenplay ...   \n",
       "9         Love or Lust\" is Jewell's best known song.   \n",
       "\n",
       "                                            evi_text  label  \\\n",
       "0  As of 2015 , Ripon College 's student body sto...      1   \n",
       "1  The University of Illinois at Chicago or UIC i...      0   \n",
       "2  10,000_metres_at_the_World_Championships_in_At...      0   \n",
       "3  Same Old Love '' is a song by American singer ...      1   \n",
       "4  Elisedal is a neighbourhood of Malmö , situate...      0   \n",
       "5  Fantastic Four -LRB- stylized as Fantastic 4 -...      1   \n",
       "6  The office was replaced by the Lord Lieutenant...      0   \n",
       "7  Entire SH-09 between Dabok and Chittaurgarh ha...      0   \n",
       "8  The working group that produced the standard w...      0   \n",
       "9               The Road to El Dorado stars a parrot      0   \n",
       "\n",
       "                                 claim_with_evi_text  \n",
       "0  Ripon College's student number totaled in at a...  \n",
       "1  The University of Illinois at Chicago is a col...  \n",
       "2  Birthday Song (2 Chainz song) was banned by So...  \n",
       "3  The University of Illinois at Chicago is a col...  \n",
       "4  Damon Albarn has refused to ever work with Bri...  \n",
       "5  Lost (TV series) is a series of plays ||| Fant...  \n",
       "6  Edison Machine Works was barely set up to prod...  \n",
       "7  There are rumors that Augustus' wife, Livia, p...  \n",
       "8  Bret Easton Ellis barely wrote the screenplay ...  \n",
       "9  Love or Lust\" is Jewell's best known song. |||...  "
      ]
     },
     "execution_count": 29,
     "metadata": {},
     "output_type": "execute_result"
    }
   ],
   "source": [
    "import numpy as np\n",
    "import pandas as pd\n",
    "\n",
    "# train_file_path = \"./JSONFiles/\" + \"train_with_text.json\"\n",
    "# test_file_path = './JSONFiles/' + 'test_with_text.json'\n",
    "\n",
    "\n",
    "train_df = pd.DataFrame(fake_data)\n",
    "train_df['claim_with_evi_text'] = train_df['label']\n",
    "for i in range(0, len(train_df)):\n",
    "    claim = train_df.iloc[i]['claim']\n",
    "    evi_text = train_df.iloc[i]['evi_text']\n",
    "    claim_with_evi_text = claim + \" ||| \" + evi_text\n",
    "    train_df.loc[i, 'claim_with_evi_text'] = claim_with_evi_text\n",
    "\n",
    "train_df"
   ]
  },
  {
   "cell_type": "code",
   "execution_count": 31,
   "metadata": {
    "ExecuteTime": {
     "end_time": "2019-05-19T07:38:16.359768Z",
     "start_time": "2019-05-19T07:38:16.354153Z"
    }
   },
   "outputs": [
    {
     "data": {
      "text/plain": [
       "0    Ripon College's student number totaled in at a...\n",
       "1    The University of Illinois at Chicago is a col...\n",
       "2    Birthday Song (2 Chainz song) was banned by So...\n",
       "3    The University of Illinois at Chicago is a col...\n",
       "4    Damon Albarn has refused to ever work with Bri...\n",
       "5    Lost (TV series) is a series of plays ||| Fant...\n",
       "6    Edison Machine Works was barely set up to prod...\n",
       "7    There are rumors that Augustus' wife, Livia, p...\n",
       "8    Bret Easton Ellis barely wrote the screenplay ...\n",
       "9    Love or Lust\" is Jewell's best known song. |||...\n",
       "Name: claim_with_evi_text, dtype: object"
      ]
     },
     "execution_count": 31,
     "metadata": {},
     "output_type": "execute_result"
    }
   ],
   "source": [
    "train_df['claim_with_evi_text']"
   ]
  },
  {
   "cell_type": "markdown",
   "metadata": {},
   "source": [
    "## Feature extraction"
   ]
  },
  {
   "cell_type": "markdown",
   "metadata": {
    "ExecuteTime": {
     "end_time": "2019-05-17T10:22:02.299532Z",
     "start_time": "2019-05-17T10:22:02.296894Z"
    }
   },
   "source": [
    "### Construct and save bert features to file for reuse"
   ]
  },
  {
   "cell_type": "code",
   "execution_count": null,
   "metadata": {
    "ExecuteTime": {
     "end_time": "2019-05-17T10:22:01.605677Z",
     "start_time": "2019-05-17T08:53:06.342210Z"
    }
   },
   "outputs": [],
   "source": [
    "from bert_serving.client import BertClient\n",
    "bc = BertClient()\n",
    "\n",
    "# for cased restart server with \n",
    "# bert-serving-start -model_dir /share/ShareFolder/cased_L-24_H-1024_A-16/ -max_seq_len=50 -cased_tokenization -gpu_memory_fraction=0.9 -num_worker=11\n",
    "# for uncased restart server with \n",
    "#bert-serving-start -model_dir /share/ShareFolder/cased_L-24_H-1024_A-16/ -max_seq_len=50 -gpu_memory_fraction=0.9 -num_worker=1\n",
    "case = \"_cased\"\n"
   ]
  },
  {
   "cell_type": "code",
   "execution_count": 10,
   "metadata": {},
   "outputs": [],
   "source": [
    "# # train, test claim encode\n",
    "# restart server with \n",
    "# bert-serving-start -model_dir /share/ShareFolder/uncased_L-24_H-1024_A-16/ -max_seq_len=50 -gpu_memory_fraction=0.9 -num_worker=1\n",
    "\n",
    "\n",
    "train_claim_encode = bc.encode(list(train_df['claim']))\n",
    "np.save(\"./Sentence_encodings/train_claim_encode\" + case, train_claim_encode)\n",
    "\n",
    "# test_claim_encode = bc.encode(list(test_df['claim']))\n",
    "# np.save(\"./Sentence_encodings/test_claim_encode\" + case, test_claim_encode)"
   ]
  },
  {
   "cell_type": "code",
   "execution_count": 11,
   "metadata": {},
   "outputs": [
    {
     "name": "stderr",
     "output_type": "stream",
     "text": [
      "/usr/local/lib/python3.5/dist-packages/bert_serving/client/__init__.py:286: UserWarning: some of your sentences have more tokens than \"max_seq_len=150\" set on the server, as consequence you may get less-accurate or truncated embeddings.\n",
      "here is what you can do:\n",
      "- disable the length-check by create a new \"BertClient(check_length=False)\" when you do not want to display this warning\n",
      "- or, start a new server with a larger \"max_seq_len\"\n",
      "  '- or, start a new server with a larger \"max_seq_len\"' % self.length_limit)\n"
     ]
    }
   ],
   "source": [
    "# train, test evidence encode\n",
    "# restart server with \n",
    "# bert-serving-start -model_dir /share/ShareFolder/uncased_L-24_H-1024_A-16/ -max_seq_len=150 -gpu_memory_fraction=0.9 -num_worker=1\n",
    "\n",
    "train_evi_encode = bc.encode(list(train_df['evi_text']))\n",
    "np.save(\"./Sentence_encodings/train_evi_encode\" + case, train_evi_encode)\n",
    "\n",
    "# test_evi_encode = bc.encode(list(test_df['evi_text']))\n",
    "# np.save(\"./Sentence_encodings/test_evi_encode\" + case, test_evi_encode)\n",
    "\n"
   ]
  },
  {
   "cell_type": "code",
   "execution_count": 12,
   "metadata": {},
   "outputs": [],
   "source": [
    "# # train, test claim+evidence pair encode\n",
    "# restart server with \n",
    "# bert-serving-start -model_dir /share/ShareFolder/uncased_L-24_H-1024_A-16/ -max_seq_len=150 -gpu_memory_fraction=0.9 -num_worker=1\n",
    "\n",
    "\n",
    "train_pair_encode = bc.encode(list(train_df['claim_with_evi_text']))\n",
    "np.save(\"./Sentence_encodings/train_pair_encode\" + case, train_pair_encode)\n",
    "\n",
    "# test_pair_encode = bc.encode(list(test_df['claim_with_evi_text']))\n",
    "# np.save(\"./Sentence_encodings/test_pair_encode\" + case, test_pair_encode)"
   ]
  },
  {
   "cell_type": "markdown",
   "metadata": {},
   "source": [
    "### Load bert features from file"
   ]
  },
  {
   "cell_type": "code",
   "execution_count": 23,
   "metadata": {},
   "outputs": [],
   "source": [
    "\n",
    "train_claim_features = np.load(\"./Sentence_encodings/train_claim_encode.npy\")\n",
    "# test_claim_features = np.load(\"./Sentence_encodings/test_claim_encode.npy\")\n",
    "\n",
    "train_evi_features = np.load(\"./Sentence_encodings/train_evi_encode.npy\")\n",
    "# test_evi_features = np.load(\"./Sentence_encodings/test_evi_encode.npy\")\n",
    "\n",
    "train_pair_features = np.load(\"./Sentence_encodings/train_pair_encode.npy\")\n",
    "# test_pair_features = np.load(\"././Sentence_encodings/test_pair_encode.npy\")\n",
    "\n",
    "train_claim_features_cased = np.load(\"./Sentence_encodings/train_claim_encode_cased.npy\")\n",
    "# test_claim_features_cased = np.load(\"./Sentence_encodings/test_claim_encode_cased.npy\")\n",
    "\n",
    "train_evi_features_cased = np.load(\"./Sentence_encodings/train_evi_encode_cased.npy\")\n",
    "# test_evi_features_cased = np.load(\"./Sentence_encodings/test_evi_encode_cased.npy\")\n",
    "\n",
    "train_pair_features_cased = np.load(\"./Sentence_encodings/train_pair_encode_cased.npy\")\n",
    "# test_pair_features_cased = np.load(\"././Sentence_encodings/test_pair_encode_cased.npy\")\n"
   ]
  },
  {
   "cell_type": "code",
   "execution_count": 24,
   "metadata": {},
   "outputs": [],
   "source": [
    "x_train = np.concatenate([train_claim_features, train_evi_features, train_pair_features, train_claim_features_cased, train_evi_features_cased, train_pair_features_cased], axis=1)\n",
    "y_train = train_df[train_df.columns[0:3]].values\n",
    "x_test = np.concatenate([test_claim_features, test_evi_features, test_pair_features, test_claim_features_cased, test_evi_features_cased, test_pair_features_cased], axis=1)"
   ]
  },
  {
   "cell_type": "code",
   "execution_count": 25,
   "metadata": {
    "scrolled": false
   },
   "outputs": [
    {
     "name": "stdout",
     "output_type": "stream",
     "text": [
      "(145449, 6144)\n",
      "(145449, 3)\n",
      "(5001, 6144)\n"
     ]
    }
   ],
   "source": [
    "print(x_train.shape)\n",
    "print(y_train.shape)\n",
    "print(x_test.shape)"
   ]
  },
  {
   "cell_type": "code",
   "execution_count": null,
   "metadata": {},
   "outputs": [],
   "source": []
  },
  {
   "cell_type": "markdown",
   "metadata": {},
   "source": [
    "## Simple MLP to train (with bert features)"
   ]
  },
  {
   "cell_type": "code",
   "execution_count": null,
   "metadata": {},
   "outputs": [],
   "source": [
    "import keras\n",
    "from keras.callbacks import ModelCheckpoint, EarlyStopping\n",
    "from keras.models import Sequential\n",
    "from keras.layers import Dense, Dropout\n",
    "from IPython.display import SVG\n",
    "from keras.utils.vis_utils import model_to_dot\n",
    "from keras.optimizers import Adam\n",
    "\n",
    "seed = 7\n",
    "np.random.seed(seed)\n",
    "\n",
    "\n",
    "model = Sequential()\n",
    "model.add(Dense(units=200, activation='relu', input_dim=x_train.shape[1]))\n",
    "model.add(Dense(units=50, activation='relu', input_dim=x_train.shape[1]))\n",
    "model.add(Dropout(0.3))\n",
    "model.add(Dense(units=1, activation='sigmoid'))\n",
    "# optimizer = Adam(lr=0.01)\n",
    "model.compile(loss=keras.losses.binary_crossentropy,\n",
    "              optimizer='adam', metrics=['accuracy'])\n",
    "\n",
    "model.summary()\n",
    "# SVG(model_to_dot(model).create(prog='dot', format='svg'))\n",
    "\n",
    "# callbacks\n",
    "filepath=\"best_weights_sentence.hdf5\"\n",
    "checkpoint = ModelCheckpoint(filepath, monitor='val_loss', verbose=1, save_best_only=True, mode='auto')\n",
    "earlyStopping = EarlyStopping(monitor='val_loss', patience=2, verbose=0, mode='auto')\n",
    "\n",
    "callbacks_list = [checkpoint, earlyStopping]\n",
    "\n",
    "model.fit(x=x_train, y=y_train, batch_size=32, epochs=50, validation_split=0.1, callbacks=callbacks_list)"
   ]
  }
 ],
 "metadata": {
  "hide_input": false,
  "kernelspec": {
   "display_name": "Python 3",
   "language": "python",
   "name": "python3"
  },
  "language_info": {
   "codemirror_mode": {
    "name": "ipython",
    "version": 3
   },
   "file_extension": ".py",
   "mimetype": "text/x-python",
   "name": "python",
   "nbconvert_exporter": "python",
   "pygments_lexer": "ipython3",
   "version": "3.6.4"
  },
  "toc": {
   "base_numbering": 1,
   "nav_menu": {},
   "number_sections": true,
   "sideBar": true,
   "skip_h1_title": false,
   "title_cell": "Table of Contents",
   "title_sidebar": "Contents",
   "toc_cell": false,
   "toc_position": {},
   "toc_section_display": true,
   "toc_window_display": true
  }
 },
 "nbformat": 4,
 "nbformat_minor": 2
}
