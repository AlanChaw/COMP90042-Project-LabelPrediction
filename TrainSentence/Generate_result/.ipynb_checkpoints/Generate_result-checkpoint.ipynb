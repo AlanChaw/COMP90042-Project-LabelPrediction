{
 "cells": [
  {
   "cell_type": "markdown",
   "metadata": {},
   "source": [
    "# Generate final result according to bert prediction"
   ]
  },
  {
   "cell_type": "code",
   "execution_count": 1,
   "metadata": {
    "ExecuteTime": {
     "end_time": "2019-05-24T06:09:24.496686Z",
     "start_time": "2019-05-24T06:09:23.697437Z"
    }
   },
   "outputs": [],
   "source": [
    "import pandas as pd \n",
    "\n",
    "data_to_predict = pd.read_csv('bert_dev_shuffle_top5_index.tsv', sep='\\t')\n",
    "predict_results = pd.read_csv('1epoch_dev_top5_results.tsv', sep='\\t')\n",
    "\n",
    "data_to_predict['true'] = predict_results['true']\n",
    "\n"
   ]
  },
  {
   "cell_type": "code",
   "execution_count": 8,
   "metadata": {
    "ExecuteTime": {
     "end_time": "2019-05-24T06:18:21.998201Z",
     "start_time": "2019-05-24T06:18:18.219542Z"
    }
   },
   "outputs": [],
   "source": [
    "result_dict = {}\n",
    "\n",
    "for index, row in data_to_predict.iterrows():\n",
    "    key = row[0]\n",
    "    claim = row[1]\n",
    "    evi_index = row[2]\n",
    "    probability = row[5]\n",
    "    if key in result_dict.keys():\n",
    "        result_dict[key]['evidence'].append(evi_index)\n",
    "    else:\n",
    "        result_dict.update({\n",
    "            key:{\n",
    "                \"claim\": claim,\n",
    "                \"label\": \"NOT ENOUGH INFO\",\n",
    "                \"evidence\": [evi_index]\n",
    "            }\n",
    "        })\n",
    "        "
   ]
  },
  {
   "cell_type": "raw",
   "metadata": {},
   "source": []
  }
 ],
 "metadata": {
  "hide_input": false,
  "kernelspec": {
   "display_name": "Python 3",
   "language": "python",
   "name": "python3"
  },
  "language_info": {
   "codemirror_mode": {
    "name": "ipython",
    "version": 3
   },
   "file_extension": ".py",
   "mimetype": "text/x-python",
   "name": "python",
   "nbconvert_exporter": "python",
   "pygments_lexer": "ipython3",
   "version": "3.6.4"
  },
  "toc": {
   "base_numbering": 1,
   "nav_menu": {},
   "number_sections": true,
   "sideBar": true,
   "skip_h1_title": false,
   "title_cell": "Table of Contents",
   "title_sidebar": "Contents",
   "toc_cell": false,
   "toc_position": {},
   "toc_section_display": true,
   "toc_window_display": false
  }
 },
 "nbformat": 4,
 "nbformat_minor": 2
}
