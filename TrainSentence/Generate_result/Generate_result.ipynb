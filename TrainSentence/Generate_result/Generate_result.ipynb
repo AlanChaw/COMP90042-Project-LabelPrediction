{
 "cells": [
  {
   "cell_type": "markdown",
   "metadata": {},
   "source": [
    "# Generate final result according to bert prediction"
   ]
  },
  {
   "cell_type": "code",
   "execution_count": 11,
   "metadata": {
    "ExecuteTime": {
     "end_time": "2019-05-24T06:37:35.343322Z",
     "start_time": "2019-05-24T06:37:35.196301Z"
    }
   },
   "outputs": [],
   "source": [
    "import pandas as pd \n",
    "import json \n",
    "\n",
    "data_to_predict = pd.read_csv('bert_dev_shuffle_top5_index.tsv', sep='\\t')\n",
    "predict_results = pd.read_csv('1epoch_dev_top5_results.tsv', sep='\\t')\n",
    "with open('devset.json', 'r') as f: \n",
    "    origin_data = json.load(f)\n",
    "\n",
    "data_to_predict['true'] = predict_results['true']\n"
   ]
  },
  {
   "cell_type": "code",
   "execution_count": 12,
   "metadata": {
    "ExecuteTime": {
     "end_time": "2019-05-24T06:37:40.263406Z",
     "start_time": "2019-05-24T06:37:35.868294Z"
    }
   },
   "outputs": [],
   "source": [
    "import ast\n",
    "\n",
    "result_dict = {}\n",
    "\n",
    "for index, row in data_to_predict.iterrows():\n",
    "    key = str(row[0])\n",
    "    claim = row[1]\n",
    "    evi_index = ast.literal_eval(row[2])\n",
    "    probability = row[5]\n",
    "    if probability > 0.45: \n",
    "        if key in result_dict.keys():\n",
    "            result_dict[key]['evidence'].append(evi_index)\n",
    "        else:\n",
    "            result_dict.update({\n",
    "                key:{\n",
    "                    \"claim\": claim,\n",
    "                    \"label\": \"NOT ENOUGH INFO\",\n",
    "                    \"evidence\": [evi_index]\n",
    "                }\n",
    "            })"
   ]
  },
  {
   "cell_type": "code",
   "execution_count": 13,
   "metadata": {
    "ExecuteTime": {
     "end_time": "2019-05-24T06:37:42.520335Z",
     "start_time": "2019-05-24T06:37:42.516148Z"
    }
   },
   "outputs": [
    {
     "data": {
      "text/plain": [
       "2923"
      ]
     },
     "execution_count": 13,
     "metadata": {},
     "output_type": "execute_result"
    }
   ],
   "source": [
    "len(result_dict)"
   ]
  },
  {
   "cell_type": "code",
   "execution_count": 14,
   "metadata": {
    "ExecuteTime": {
     "end_time": "2019-05-24T06:37:43.458285Z",
     "start_time": "2019-05-24T06:37:43.446377Z"
    }
   },
   "outputs": [
    {
     "data": {
      "text/plain": [
       "5001"
      ]
     },
     "execution_count": 14,
     "metadata": {},
     "output_type": "execute_result"
    }
   ],
   "source": [
    "for key in origin_data.keys():\n",
    "    item = origin_data[key]\n",
    "    if key in result_dict.keys():\n",
    "        continue\n",
    "    else:\n",
    "        result_dict.update({\n",
    "            key:{\n",
    "                \"claim\": item['claim'],\n",
    "                \"label\": item['label'],\n",
    "                \"evidence\": []\n",
    "            }\n",
    "        })\n",
    "len(result_dict)\n"
   ]
  },
  {
   "cell_type": "code",
   "execution_count": 15,
   "metadata": {
    "ExecuteTime": {
     "end_time": "2019-05-24T06:37:44.309421Z",
     "start_time": "2019-05-24T06:37:44.217405Z"
    }
   },
   "outputs": [],
   "source": [
    "with open('final_result.json', 'w') as o:\n",
    "    json.dump(result_dict, o, indent=4)"
   ]
  },
  {
   "cell_type": "code",
   "execution_count": null,
   "metadata": {},
   "outputs": [],
   "source": []
  }
 ],
 "metadata": {
  "hide_input": false,
  "kernelspec": {
   "display_name": "Python 3",
   "language": "python",
   "name": "python3"
  },
  "language_info": {
   "codemirror_mode": {
    "name": "ipython",
    "version": 3
   },
   "file_extension": ".py",
   "mimetype": "text/x-python",
   "name": "python",
   "nbconvert_exporter": "python",
   "pygments_lexer": "ipython3",
   "version": "3.6.4"
  },
  "toc": {
   "base_numbering": 1,
   "nav_menu": {},
   "number_sections": true,
   "sideBar": true,
   "skip_h1_title": false,
   "title_cell": "Table of Contents",
   "title_sidebar": "Contents",
   "toc_cell": false,
   "toc_position": {},
   "toc_section_display": true,
   "toc_window_display": false
  }
 },
 "nbformat": 4,
 "nbformat_minor": 2
}
