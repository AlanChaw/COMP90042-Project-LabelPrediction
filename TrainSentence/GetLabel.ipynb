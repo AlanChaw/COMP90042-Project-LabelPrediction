{
 "cells": [
  {
   "cell_type": "code",
   "execution_count": 1,
   "metadata": {
    "ExecuteTime": {
     "end_time": "2019-05-21T14:15:51.735567Z",
     "start_time": "2019-05-21T14:15:49.702114Z"
    }
   },
   "outputs": [
    {
     "name": "stderr",
     "output_type": "stream",
     "text": [
      "Using TensorFlow backend.\n"
     ]
    },
    {
     "name": "stdout",
     "output_type": "stream",
     "text": [
      "WARNING:tensorflow:From /usr/local/lib/python3.5/dist-packages/tensorflow/python/framework/op_def_library.py:263: colocate_with (from tensorflow.python.framework.ops) is deprecated and will be removed in a future version.\n",
      "Instructions for updating:\n",
      "Colocations handled automatically by placer.\n",
      "WARNING:tensorflow:From /usr/local/lib/python3.5/dist-packages/keras/backend/tensorflow_backend.py:3445: calling dropout (from tensorflow.python.ops.nn_ops) with keep_prob is deprecated and will be removed in a future version.\n",
      "Instructions for updating:\n",
      "Please use `rate` instead of `keep_prob`. Rate should be set to `rate = 1 - keep_prob`.\n",
      "5/5 [==============================] - 0s 38ms/step\n"
     ]
    }
   ],
   "source": [
    "import pandas as pd\n",
    "import numpy as np\n",
    "import keras\n",
    "from keras.callbacks import ModelCheckpoint, EarlyStopping\n",
    "from keras.models import Sequential\n",
    "from keras.layers import Dense, Dropout\n",
    "from IPython.display import SVG\n",
    "from keras.utils.vis_utils import model_to_dot\n",
    "from keras.optimizers import Adam\n",
    "from keras import backend as K\n",
    "import tensorflow as tf\n",
    "from keras.backend.tensorflow_backend import set_session\n",
    "\n",
    "from bert_serving.client import BertClient\n",
    "bc = BertClient(check_length=False)\n",
    "\n",
    "# set GPU memory\n",
    "config = tf.ConfigProto()\n",
    "config.gpu_options.allow_growth = True\n",
    "sess = tf.Session(config=config)\n",
    "\n",
    "\n",
    "# for cased restart server with \n",
    "# bert-serving-start -model_dir /share/ShareFolder/cased_L-24_H-1024_A-16/ -cased_tokenization -max_batch_size=32 -gpu_memory_fraction=0.9 -num_worker=1\n",
    "# for uncased restart server with \n",
    "# bert-serving-start -model_dir /share/ShareFolder/cased_L-24_H-1024_A-16/ -max_batch_size=32 -gpu_memory_fraction=0.9 -num_worker=1\n",
    "\n",
    "test_file_path = './dev.csv'\n",
    "\n",
    "def get_keras_model():\n",
    "    model = Sequential()\n",
    "    model.add(Dense(units=200, activation='relu', input_dim=3072))\n",
    "    model.add(Dropout(0.3))\n",
    "    model.add(Dense(units=50, activation='relu', input_dim=3072))\n",
    "    model.add(Dropout(0.3))\n",
    "    model.add(Dense(units=1, activation='sigmoid'))\n",
    "    # optimizer = Adam(lr=0.01)\n",
    "    model.compile(loss=keras.losses.binary_crossentropy,\n",
    "                  optimizer='adam', metrics=['accuracy'])\n",
    "\n",
    "    model.load_weights(\"best_weights_sentence.hdf5\")\n",
    "    return model\n",
    "\n",
    "def get_features(claim_list, evidence_list, pair_list):\n",
    "    claim_features = bc.encode(claim_list)\n",
    "    evidence_features = bc.encode(evidence_list)\n",
    "    pair_features = bc.encode(pair_list)\n",
    "    return np.concatenate([claim_features, evidence_features, pair_features], axis=1)\n",
    "    \n",
    "test_df = pd.read_csv(test_file_path)\n",
    "\n",
    "claim_list = list(test_df['claim'].values)[0: 5]\n",
    "evidence_list = list(test_df['evidence'].values)[0: 5]\n",
    "pair_list = list(test_df['claim_evi_pair'].values)[0: 5]\n",
    "\n",
    "feature_matrix = get_features(claim_list, evidence_list, pair_list)\n",
    "\n",
    "keras_model = get_keras_model()\n",
    "labels = keras_model.predict(feature_matrix, batch_size=32, verbose=1)\n",
    "# y_test_predict = model.predict(x_test, batch_size=128, verbose=1)"
   ]
  },
  {
   "cell_type": "code",
   "execution_count": 3,
   "metadata": {
    "ExecuteTime": {
     "end_time": "2019-05-21T13:25:57.804208Z",
     "start_time": "2019-05-21T13:25:57.796185Z"
    }
   },
   "outputs": [
    {
     "data": {
      "text/plain": [
       "(5, 3072)"
      ]
     },
     "execution_count": 3,
     "metadata": {},
     "output_type": "execute_result"
    }
   ],
   "source": [
    "feature_matrix.shape"
   ]
  },
  {
   "cell_type": "code",
   "execution_count": 8,
   "metadata": {
    "ExecuteTime": {
     "end_time": "2019-05-21T13:26:19.623933Z",
     "start_time": "2019-05-21T13:26:19.620365Z"
    }
   },
   "outputs": [
    {
     "data": {
      "text/plain": [
       "array([[2.0837456e-01],\n",
       "       [2.1317372e-01],\n",
       "       [2.5552452e-02],\n",
       "       [1.1413929e-01],\n",
       "       [3.2497333e-05]], dtype=float32)"
      ]
     },
     "execution_count": 8,
     "metadata": {},
     "output_type": "execute_result"
    }
   ],
   "source": [
    "labels"
   ]
  },
  {
   "cell_type": "code",
   "execution_count": 5,
   "metadata": {
    "ExecuteTime": {
     "end_time": "2019-05-21T13:26:01.149572Z",
     "start_time": "2019-05-21T13:26:01.147439Z"
    }
   },
   "outputs": [],
   "source": [
    "query_doc_sort_index = np.argsort(labels)"
   ]
  },
  {
   "cell_type": "code",
   "execution_count": 22,
   "metadata": {
    "ExecuteTime": {
     "end_time": "2019-05-21T13:32:13.258038Z",
     "start_time": "2019-05-21T13:32:13.255623Z"
    }
   },
   "outputs": [],
   "source": [
    "probabilities = []\n",
    "for label in labels:\n",
    "    probabilities.append(label[0])"
   ]
  },
  {
   "cell_type": "code",
   "execution_count": 23,
   "metadata": {
    "ExecuteTime": {
     "end_time": "2019-05-21T13:32:13.898946Z",
     "start_time": "2019-05-21T13:32:13.895853Z"
    }
   },
   "outputs": [
    {
     "data": {
      "text/plain": [
       "[0.20837456, 0.21317372, 0.025552452, 0.11413929, 3.2497333e-05]"
      ]
     },
     "execution_count": 23,
     "metadata": {},
     "output_type": "execute_result"
    }
   ],
   "source": [
    "probabilities"
   ]
  },
  {
   "cell_type": "code",
   "execution_count": 29,
   "metadata": {
    "ExecuteTime": {
     "end_time": "2019-05-21T13:33:39.411993Z",
     "start_time": "2019-05-21T13:33:39.408102Z"
    }
   },
   "outputs": [
    {
     "data": {
      "text/plain": [
       "array([1, 0, 3, 2, 4])"
      ]
     },
     "execution_count": 29,
     "metadata": {},
     "output_type": "execute_result"
    }
   ],
   "source": [
    "query_doc_sort_index = np.argsort(probabilities)\n",
    "query_doc_sort_index[::-1]"
   ]
  },
  {
   "cell_type": "code",
   "execution_count": 30,
   "metadata": {
    "ExecuteTime": {
     "end_time": "2019-05-21T13:33:42.610912Z",
     "start_time": "2019-05-21T13:33:42.607749Z"
    }
   },
   "outputs": [
    {
     "data": {
      "text/plain": [
       "array([4, 2, 3, 0, 1])"
      ]
     },
     "execution_count": 30,
     "metadata": {},
     "output_type": "execute_result"
    }
   ],
   "source": [
    "query_doc_sort_index"
   ]
  },
  {
   "cell_type": "code",
   "execution_count": null,
   "metadata": {},
   "outputs": [],
   "source": []
  }
 ],
 "metadata": {
  "hide_input": false,
  "kernelspec": {
   "display_name": "Python 3",
   "language": "python",
   "name": "python3"
  },
  "language_info": {
   "codemirror_mode": {
    "name": "ipython",
    "version": 3
   },
   "file_extension": ".py",
   "mimetype": "text/x-python",
   "name": "python",
   "nbconvert_exporter": "python",
   "pygments_lexer": "ipython3",
   "version": "3.6.4"
  },
  "toc": {
   "base_numbering": 1,
   "nav_menu": {},
   "number_sections": true,
   "sideBar": true,
   "skip_h1_title": false,
   "title_cell": "Table of Contents",
   "title_sidebar": "Contents",
   "toc_cell": false,
   "toc_position": {},
   "toc_section_display": true,
   "toc_window_display": false
  },
  "varInspector": {
   "cols": {
    "lenName": 16,
    "lenType": 16,
    "lenVar": 40
   },
   "kernels_config": {
    "python": {
     "delete_cmd_postfix": "",
     "delete_cmd_prefix": "del ",
     "library": "var_list.py",
     "varRefreshCmd": "print(var_dic_list())"
    },
    "r": {
     "delete_cmd_postfix": ") ",
     "delete_cmd_prefix": "rm(",
     "library": "var_list.r",
     "varRefreshCmd": "cat(var_dic_list()) "
    }
   },
   "types_to_exclude": [
    "module",
    "function",
    "builtin_function_or_method",
    "instance",
    "_Feature"
   ],
   "window_display": false
  }
 },
 "nbformat": 4,
 "nbformat_minor": 2
}
